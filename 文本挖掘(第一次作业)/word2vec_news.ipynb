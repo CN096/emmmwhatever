{
 "cells": [
  {
   "cell_type": "markdown",
   "id": "60d2efef",
   "metadata": {},
   "source": [
    "# 中文新闻分类：Word2Vec\n",
    "本实验使用中文数据集，结合 Word2Vec 词向量和传统机器学习方法，对新闻文本进行真假分类。\n",
    "Python版本：3.11.8"
   ]
  },
  {
   "cell_type": "code",
   "execution_count": null,
   "id": "c22eee94",
   "metadata": {},
   "outputs": [],
   "source": [
    "\n",
    "import os\n",
    "import multiprocessing\n",
    "import numpy as np\n",
    "import pandas as pd\n",
    "from tqdm import tqdm\n",
    "import jieba\n",
    "\n",
    "from gensim.models import Word2Vec\n",
    "from sklearn.feature_extraction.text import TfidfVectorizer\n",
    "from sklearn.metrics import accuracy_score, f1_score, confusion_matrix\n",
    "from sklearn.svm import LinearSVC\n",
    "from sklearn.ensemble import RandomForestClassifier\n",
    "from sklearn.linear_model import LogisticRegression\n",
    "\n",
    "import matplotlib.pyplot as plt\n",
    "import seaborn as sns\n"
   ]
  },
  {
   "cell_type": "markdown",
   "id": "03705959",
   "metadata": {},
   "source": [
    "## 1. 加载数据\n",
    "数据集为excel文件，分为2列。第一列是新闻文本，第二列是一个数字，其中0表示真新闻，1表示假新闻"
   ]
  },
  {
   "cell_type": "code",
   "execution_count": null,
   "id": "1206c999",
   "metadata": {},
   "outputs": [],
   "source": [
    "\n",
    "# 设置数据路径\n",
    "TRAIN_PATH = 'D:/Users/CN096/NLP/word2vec/train_data.csv'\n",
    "TEST_PATH = 'D:/Users/CN096/NLP/word2vec/test_data.csv'\n",
    "STOPWORDS_PATH = 'D:/Users/CN096/NLP/word2vec/stopwords.txt'\n",
    "\n",
    "# 加载训练集和测试集（Excel 格式）\n",
    "train_df = pd.read_excel(TRAIN_PATH)\n",
    "test_df = pd.read_excel(TEST_PATH)\n",
    "\n",
    "print(\"训练样本数:\", len(train_df), \"测试样本数:\", len(test_df))\n",
    "labels = sorted(train_df['label'].unique())  # 可能的标签值\n"
   ]
  },
  {
   "cell_type": "markdown",
   "id": "9980e945",
   "metadata": {},
   "source": [
    "训练样本数: 8469 测试样本数: 2118"
   ]
  },
  {
   "cell_type": "markdown",
   "id": "5db7bfb2",
   "metadata": {},
   "source": [
    "## 2. 加载停用词表"
   ]
  },
  {
   "cell_type": "code",
   "execution_count": null,
   "id": "e3e2a928",
   "metadata": {},
   "outputs": [],
   "source": [
    "\n",
    "# 加载停用词\n",
    "with open(STOPWORDS_PATH, 'r', encoding='utf-8') as f:\n",
    "    stop_words = set(line.strip() for line in f)\n"
   ]
  },
  {
   "cell_type": "markdown",
   "id": "4bad1f58",
   "metadata": {},
   "source": [
    "## 3. 文本清洗与分词"
   ]
  },
  {
   "cell_type": "code",
   "execution_count": null,
   "id": "cef6d4a9",
   "metadata": {},
   "outputs": [],
   "source": [
    "\n",
    "# 定义清洗 + 分词函数（使用 jieba）\n",
    "def clean_text(text):\n",
    "    tokens = jieba.lcut(str(text))\n",
    "    tokens = [w for w in tokens if w.strip() and w not in stop_words]\n",
    "    return tokens\n",
    "\n",
    "tqdm.pandas()\n",
    "train_df['tokens'] = train_df['text'].progress_apply(clean_text)\n",
    "test_df['tokens'] = test_df['text'].progress_apply(clean_text)\n"
   ]
  },
  {
   "cell_type": "markdown",
   "id": "39ef5ad0",
   "metadata": {},
   "source": [
    "## 4. 训练 Word2Vec 词向量模型\n",
    "分别训练100维、300维的词向量以对比效果"
   ]
  },
  {
   "cell_type": "code",
   "execution_count": null,
   "id": "46220872",
   "metadata": {},
   "outputs": [],
   "source": [
    "\n",
    "# 训练 Word2Vec（100维、300维）\n",
    "sentences = train_df['tokens'].tolist()\n",
    "EMBEDDINGS = {}\n",
    "\n",
    "for dim in [100, 300]:\n",
    "    print(f\"Training Word2Vec {dim}-dim...\")\n",
    "    w2v = Word2Vec(sentences=sentences,\n",
    "                   vector_size=dim,\n",
    "                   window=5,\n",
    "                   min_count=2,\n",
    "                   workers=multiprocessing.cpu_count(),\n",
    "                   epochs=10)\n",
    "    EMBEDDINGS[dim] = w2v\n"
   ]
  },
  {
   "cell_type": "markdown",
   "id": "80728db6",
   "metadata": {},
   "source": [
    "## 5. 文本向量化函数（平均向量和 TF-IDF 加权平均）"
   ]
  },
  {
   "cell_type": "code",
   "execution_count": null,
   "id": "bf819840",
   "metadata": {},
   "outputs": [],
   "source": [
    "\n",
    "def doc_vector_mean(tokens, model):\n",
    "    vecs = [model.wv[w] for w in tokens if w in model.wv]\n",
    "    return np.mean(vecs, axis=0) if vecs else np.zeros(model.vector_size)\n",
    "\n",
    "def doc_vector_tfidf(tokens, model, tfidf_dict):\n",
    "    vecs = []\n",
    "    weights = []\n",
    "    for w in tokens:\n",
    "        if w in model.wv and w in tfidf_dict:\n",
    "            vecs.append(model.wv[w] * tfidf_dict[w])\n",
    "            weights.append(tfidf_dict[w])\n",
    "    if not vecs:\n",
    "        return np.zeros(model.vector_size)\n",
    "    return np.sum(vecs, axis=0) / np.sum(weights)\n"
   ]
  },
  {
   "cell_type": "markdown",
   "id": "43c4e63e",
   "metadata": {},
   "source": [
    "## 6. 构建 TF-IDF 字典"
   ]
  },
  {
   "cell_type": "code",
   "execution_count": null,
   "id": "07485dc0",
   "metadata": {},
   "outputs": [],
   "source": [
    "\n",
    "tfidf = TfidfVectorizer(tokenizer=lambda x: x, preprocessor=lambda x: x, token_pattern=None, min_df=2)\n",
    "tfidf_matrix = tfidf.fit_transform(train_df['tokens'])\n",
    "idf_scores = dict(zip(tfidf.get_feature_names_out(), tfidf.idf_))\n"
   ]
  },
  {
   "cell_type": "markdown",
   "id": "1c0b2f14",
   "metadata": {},
   "source": [
    "## 7. 构建特征向量"
   ]
  },
  {
   "cell_type": "code",
   "execution_count": null,
   "id": "4e3d230f",
   "metadata": {},
   "outputs": [],
   "source": [
    "\n",
    "def build_features(df, model, method='mean'):\n",
    "    vectors = []\n",
    "    for tokens in df['tokens']:\n",
    "        if method == 'mean':\n",
    "            vectors.append(doc_vector_mean(tokens, model))\n",
    "        elif method == 'tfidf':\n",
    "            vectors.append(doc_vector_tfidf(tokens, model, idf_scores))\n",
    "    return np.vstack(vectors)\n"
   ]
  },
  {
   "cell_type": "markdown",
   "id": "e7527409",
   "metadata": {},
   "source": [
    "## 8. 训练分类器并评估\n",
    "评估多种分类器（SVM、逻辑回归、随机森林）在文本表示下的效果"
   ]
  },
  {
   "cell_type": "code",
   "execution_count": null,
   "id": "2656b6cd",
   "metadata": {},
   "outputs": [],
   "source": [
    "\n",
    "results = []\n",
    "classifiers = {\n",
    "    'SVM': LinearSVC(),\n",
    "    'LogReg': LogisticRegression(max_iter=1000),\n",
    "    'RF': RandomForestClassifier(n_estimators=200, random_state=42)\n",
    "}\n",
    "\n",
    "for dim, model in EMBEDDINGS.items():\n",
    "    for method in ['mean', 'tfidf']:\n",
    "        print(f\"Processing features: {dim}d-{method}\")\n",
    "        X_train = build_features(train_df, model, method)\n",
    "        y_train = train_df['label']\n",
    "        X_test = build_features(test_df, model, method)\n",
    "        y_test = test_df['label']\n",
    "\n",
    "        for clf_name, clf in classifiers.items():\n",
    "            clf.fit(X_train, y_train)\n",
    "            y_pred = clf.predict(X_test)\n",
    "            acc = accuracy_score(y_test, y_pred)\n",
    "            f1 = f1_score(y_test, y_pred, average='weighted')\n",
    "            results.append({'dim': dim, 'method': method, 'clf': clf_name, 'acc': acc, 'f1': f1})\n",
    "            print(f\"{dim}d-{method}-{clf_name} | Acc: {acc:.4f} | F1: {f1:.4f}\")\n"
   ]
  },
  {
   "cell_type": "markdown",
   "id": "a26ab1e3",
   "metadata": {},
   "source": [
    "## 9. 总结结果\n",
    "实验结果如下表所示"
   ]
  },
  {
   "cell_type": "code",
   "execution_count": null,
   "id": "6dfdda78",
   "metadata": {},
   "outputs": [],
   "source": [
    "\n",
    "results_df = pd.DataFrame(results).sort_values(by='f1', ascending=False)\n",
    "print(results_df)\n",
    "\n",
    "best = results_df.iloc[0]\n",
    "print(\"Best setting:\", best.to_dict())\n"
   ]
  },
  {
   "cell_type": "markdown",
   "id": "672cdc37",
   "metadata": {},
   "source": [
    "| Rank | 维度 | 表示方法 | 分类器 | 准确率 (Acc) | F1 分数 |\n",
    "|------|------|----------|--------|--------------|---------|\n",
    "| 1    | 300  | tfidf    | RF     | **0.9485**   | **0.9479** |\n",
    "| 2    | 100  | mean     | RF     | 0.9448       | 0.9443 |\n",
    "| 3    | 300  | mean     | RF     | 0.9443       | 0.9437 |\n",
    "| 4    | 100  | tfidf    | RF     | 0.9438       | 0.9431 |\n",
    "| 5    | 300  | tfidf    | SVM    | 0.8905       | 0.8860 |\n",
    "| 6    | 300  | tfidf    | LogReg | 0.8890       | 0.8853 |\n",
    "| 7    | 100  | tfidf    | LogReg | 0.8890       | 0.8849 |\n",
    "| 8    | 100  | tfidf    | SVM    | 0.8890       | 0.8842 |\n",
    "| 9    | 100  | mean     | SVM    | 0.8876       | 0.8828 |\n",
    "| 10   | 100  | mean     | LogReg | 0.8857       | 0.8815 |\n",
    "| 11   | 300  | mean     | LogReg | 0.8857       | 0.8813 |\n",
    "| 12   | 300  | mean     | SVM    | 0.8853       | 0.8800 |"
   ]
  },
  {
   "cell_type": "markdown",
   "id": "7dfbfdcd",
   "metadata": {},
   "source": [
    "## 10. 混淆矩阵可视化"
   ]
  },
  {
   "cell_type": "code",
   "execution_count": null,
   "id": "85139049",
   "metadata": {},
   "outputs": [],
   "source": [
    "\n",
    "best_model = EMBEDDINGS[best['dim']]\n",
    "X_train_b = build_features(train_df, best_model, best['method'])\n",
    "X_test_b = build_features(test_df, best_model, best['method'])\n",
    "y_train_b = train_df['label']\n",
    "y_test_b = test_df['label']\n",
    "\n",
    "clf = classifiers[best['clf']]\n",
    "clf.fit(X_train_b, y_train_b)\n",
    "y_pred_b = clf.predict(X_test_b)\n",
    "\n",
    "cm = confusion_matrix(y_test_b, y_pred_b, labels=labels)\n",
    "plt.figure(figsize=(8, 6))\n",
    "sns.heatmap(cm, annot=True, fmt='d', cmap='Blues', xticklabels=labels, yticklabels=labels)\n",
    "plt.xlabel('Predicted')\n",
    "plt.ylabel('True')\n",
    "plt.title('Confusion Matrix')\n",
    "plt.show()\n"
   ]
  },
  {
   "attachments": {
    "4bbb1a6e8f752a1356ee0c0d5705e05.png": {
     "image/png": "[encoded data removed]"
    }
   },
   "cell_type": "markdown",
   "id": "7380869c",
   "metadata": {},
   "source": [
    "![4bbb1a6e8f752a1356ee0c0d5705e05.png](attachment:4bbb1a6e8f752a1356ee0c0d5705e05.png)"
   ]
  }
 ],
 "metadata": {
  "language_info": {
   "name": "python"
  }
 },
 "nbformat": 4,
 "nbformat_minor": 5
}
